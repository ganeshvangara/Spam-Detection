{
 "cells": [
  {
   "cell_type": "code",
   "execution_count": 1,
   "id": "add3f5f1",
   "metadata": {},
   "outputs": [],
   "source": [
    "import numpy as np\n",
    "import pandas as pd\n",
    "import seaborn as sns\n",
    "import matplotlib.pyplot as plt\n"
   ]
  },
  {
   "cell_type": "code",
   "execution_count": 2,
   "id": "1441330f",
   "metadata": {},
   "outputs": [],
   "source": [
    "from nltk.corpus import stopwords\n",
    "from nltk.stem import SnowballStemmer"
   ]
  },
  {
   "cell_type": "code",
   "execution_count": 3,
   "id": "9981bbe6",
   "metadata": {},
   "outputs": [
    {
     "data": {
      "text/html": [
       "<div>\n",
       "<style scoped>\n",
       "    .dataframe tbody tr th:only-of-type {\n",
       "        vertical-align: middle;\n",
       "    }\n",
       "\n",
       "    .dataframe tbody tr th {\n",
       "        vertical-align: top;\n",
       "    }\n",
       "\n",
       "    .dataframe thead th {\n",
       "        text-align: right;\n",
       "    }\n",
       "</style>\n",
       "<table border=\"1\" class=\"dataframe\">\n",
       "  <thead>\n",
       "    <tr style=\"text-align: right;\">\n",
       "      <th></th>\n",
       "      <th>v1</th>\n",
       "      <th>v2</th>\n",
       "      <th>Unnamed: 2</th>\n",
       "      <th>Unnamed: 3</th>\n",
       "      <th>Unnamed: 4</th>\n",
       "    </tr>\n",
       "  </thead>\n",
       "  <tbody>\n",
       "    <tr>\n",
       "      <th>0</th>\n",
       "      <td>ham</td>\n",
       "      <td>Go until jurong point, crazy.. Available only ...</td>\n",
       "      <td>NaN</td>\n",
       "      <td>NaN</td>\n",
       "      <td>NaN</td>\n",
       "    </tr>\n",
       "    <tr>\n",
       "      <th>1</th>\n",
       "      <td>ham</td>\n",
       "      <td>Ok lar... Joking wif u oni...</td>\n",
       "      <td>NaN</td>\n",
       "      <td>NaN</td>\n",
       "      <td>NaN</td>\n",
       "    </tr>\n",
       "    <tr>\n",
       "      <th>2</th>\n",
       "      <td>spam</td>\n",
       "      <td>Free entry in 2 a wkly comp to win FA Cup fina...</td>\n",
       "      <td>NaN</td>\n",
       "      <td>NaN</td>\n",
       "      <td>NaN</td>\n",
       "    </tr>\n",
       "    <tr>\n",
       "      <th>3</th>\n",
       "      <td>ham</td>\n",
       "      <td>U dun say so early hor... U c already then say...</td>\n",
       "      <td>NaN</td>\n",
       "      <td>NaN</td>\n",
       "      <td>NaN</td>\n",
       "    </tr>\n",
       "    <tr>\n",
       "      <th>4</th>\n",
       "      <td>ham</td>\n",
       "      <td>Nah I don't think he goes to usf, he lives aro...</td>\n",
       "      <td>NaN</td>\n",
       "      <td>NaN</td>\n",
       "      <td>NaN</td>\n",
       "    </tr>\n",
       "  </tbody>\n",
       "</table>\n",
       "</div>"
      ],
      "text/plain": [
       "     v1                                                 v2 Unnamed: 2  \\\n",
       "0   ham  Go until jurong point, crazy.. Available only ...        NaN   \n",
       "1   ham                      Ok lar... Joking wif u oni...        NaN   \n",
       "2  spam  Free entry in 2 a wkly comp to win FA Cup fina...        NaN   \n",
       "3   ham  U dun say so early hor... U c already then say...        NaN   \n",
       "4   ham  Nah I don't think he goes to usf, he lives aro...        NaN   \n",
       "\n",
       "  Unnamed: 3 Unnamed: 4  \n",
       "0        NaN        NaN  \n",
       "1        NaN        NaN  \n",
       "2        NaN        NaN  \n",
       "3        NaN        NaN  \n",
       "4        NaN        NaN  "
      ]
     },
     "execution_count": 3,
     "metadata": {},
     "output_type": "execute_result"
    }
   ],
   "source": [
    "dataset=pd.read_csv(\"spam.csv\",encoding = \"latin\")\n",
    "dataset.head()"
   ]
  },
  {
   "cell_type": "code",
   "execution_count": 4,
   "id": "6e4667ee",
   "metadata": {},
   "outputs": [
    {
     "data": {
      "text/html": [
       "<div>\n",
       "<style scoped>\n",
       "    .dataframe tbody tr th:only-of-type {\n",
       "        vertical-align: middle;\n",
       "    }\n",
       "\n",
       "    .dataframe tbody tr th {\n",
       "        vertical-align: top;\n",
       "    }\n",
       "\n",
       "    .dataframe thead tr th {\n",
       "        text-align: left;\n",
       "    }\n",
       "\n",
       "    .dataframe thead tr:last-of-type th {\n",
       "        text-align: right;\n",
       "    }\n",
       "</style>\n",
       "<table border=\"1\" class=\"dataframe\">\n",
       "  <thead>\n",
       "    <tr>\n",
       "      <th></th>\n",
       "      <th colspan=\"4\" halign=\"left\">X</th>\n",
       "    </tr>\n",
       "    <tr>\n",
       "      <th></th>\n",
       "      <th>count</th>\n",
       "      <th>unique</th>\n",
       "      <th>top</th>\n",
       "      <th>freq</th>\n",
       "    </tr>\n",
       "    <tr>\n",
       "      <th>y</th>\n",
       "      <th></th>\n",
       "      <th></th>\n",
       "      <th></th>\n",
       "      <th></th>\n",
       "    </tr>\n",
       "  </thead>\n",
       "  <tbody>\n",
       "    <tr>\n",
       "      <th>ham</th>\n",
       "      <td>4825</td>\n",
       "      <td>4516</td>\n",
       "      <td>Sorry, I'll call later</td>\n",
       "      <td>30</td>\n",
       "    </tr>\n",
       "    <tr>\n",
       "      <th>spam</th>\n",
       "      <td>747</td>\n",
       "      <td>653</td>\n",
       "      <td>Please call our customer service representativ...</td>\n",
       "      <td>4</td>\n",
       "    </tr>\n",
       "  </tbody>\n",
       "</table>\n",
       "</div>"
      ],
      "text/plain": [
       "         X                                                               \n",
       "     count unique                                                top freq\n",
       "y                                                                        \n",
       "ham   4825   4516                             Sorry, I'll call later   30\n",
       "spam   747    653  Please call our customer service representativ...    4"
      ]
     },
     "execution_count": 4,
     "metadata": {},
     "output_type": "execute_result"
    }
   ],
   "source": [
    "dataset=dataset.drop(['Unnamed: 2', 'Unnamed: 3', 'Unnamed: 4'], axis = 1)\n",
    "dataset = dataset.rename(columns = {'v1':'y','v2':'X'})\n",
    "dataset.groupby('y').describe()"
   ]
  },
  {
   "cell_type": "code",
   "execution_count": 5,
   "id": "89fb4530",
   "metadata": {},
   "outputs": [
    {
     "data": {
      "text/html": [
       "<div>\n",
       "<style scoped>\n",
       "    .dataframe tbody tr th:only-of-type {\n",
       "        vertical-align: middle;\n",
       "    }\n",
       "\n",
       "    .dataframe tbody tr th {\n",
       "        vertical-align: top;\n",
       "    }\n",
       "\n",
       "    .dataframe thead th {\n",
       "        text-align: right;\n",
       "    }\n",
       "</style>\n",
       "<table border=\"1\" class=\"dataframe\">\n",
       "  <thead>\n",
       "    <tr style=\"text-align: right;\">\n",
       "      <th></th>\n",
       "      <th>y</th>\n",
       "      <th>X</th>\n",
       "    </tr>\n",
       "  </thead>\n",
       "  <tbody>\n",
       "    <tr>\n",
       "      <th>0</th>\n",
       "      <td>0</td>\n",
       "      <td>Go until jurong point, crazy.. Available only ...</td>\n",
       "    </tr>\n",
       "    <tr>\n",
       "      <th>1</th>\n",
       "      <td>0</td>\n",
       "      <td>Ok lar... Joking wif u oni...</td>\n",
       "    </tr>\n",
       "    <tr>\n",
       "      <th>2</th>\n",
       "      <td>1</td>\n",
       "      <td>Free entry in 2 a wkly comp to win FA Cup fina...</td>\n",
       "    </tr>\n",
       "    <tr>\n",
       "      <th>3</th>\n",
       "      <td>0</td>\n",
       "      <td>U dun say so early hor... U c already then say...</td>\n",
       "    </tr>\n",
       "    <tr>\n",
       "      <th>4</th>\n",
       "      <td>0</td>\n",
       "      <td>Nah I don't think he goes to usf, he lives aro...</td>\n",
       "    </tr>\n",
       "  </tbody>\n",
       "</table>\n",
       "</div>"
      ],
      "text/plain": [
       "   y                                                  X\n",
       "0  0  Go until jurong point, crazy.. Available only ...\n",
       "1  0                      Ok lar... Joking wif u oni...\n",
       "2  1  Free entry in 2 a wkly comp to win FA Cup fina...\n",
       "3  0  U dun say so early hor... U c already then say...\n",
       "4  0  Nah I don't think he goes to usf, he lives aro..."
      ]
     },
     "execution_count": 5,
     "metadata": {},
     "output_type": "execute_result"
    }
   ],
   "source": [
    "from sklearn.preprocessing import LabelEncoder\n",
    "encoder = LabelEncoder()\n",
    "dataset['y'] = encoder.fit_transform(dataset['y'])\n",
    "dataset.head()"
   ]
  },
  {
   "cell_type": "code",
   "execution_count": 6,
   "id": "52e0ad40",
   "metadata": {},
   "outputs": [],
   "source": [
    "x_copy = dataset['X'].copy() \n",
    "y=dataset['y']"
   ]
  },
  {
   "cell_type": "code",
   "execution_count": 7,
   "id": "19763577",
   "metadata": {
    "scrolled": true
   },
   "outputs": [
    {
     "data": {
      "image/png": "[encoded data removed]",
      "text/plain": [
       "<Figure size 640x480 with 1 Axes>"
      ]
     },
     "metadata": {},
     "output_type": "display_data"
    }
   ],
   "source": [
    "plt.pie(dataset['y'].value_counts(), labels=['ham','spam'],autopct=\"%0.3f\")\n",
    "plt.show()"
   ]
  },
  {
   "cell_type": "code",
   "execution_count": 8,
   "id": "d05b5e2c",
   "metadata": {},
   "outputs": [],
   "source": [
    "import string\n",
    "def text_preprocess(text):\n",
    "    text = text.translate(str.maketrans('', '', string.punctuation))\n",
    "    text = [word for word in text.split() if word.lower() not in stopwords.words('english')]\n",
    "    return \" \".join(text)"
   ]
  },
  {
   "cell_type": "code",
   "execution_count": 9,
   "id": "c67a8b65",
   "metadata": {},
   "outputs": [],
   "source": [
    "x_copy = x_copy.apply(text_preprocess)\n"
   ]
  },
  {
   "cell_type": "code",
   "execution_count": 10,
   "id": "f114fd86",
   "metadata": {
    "scrolled": true
   },
   "outputs": [
    {
     "name": "stdout",
     "output_type": "stream",
     "text": [
      " after vectorizer\n",
      "  (0, 8871)\t0.19696340342726038\n",
      "  (0, 1168)\t0.3454453072521403\n",
      "  (0, 3821)\t0.16228382867264401\n",
      "  (0, 2198)\t0.2918335915067389\n",
      "  (0, 1862)\t0.3297648855969494\n",
      "  (0, 4809)\t0.2918335915067389\n",
      "  (0, 9107)\t0.23822187576133733\n",
      "  (0, 3861)\t0.19227005405586492\n",
      "  (0, 1864)\t0.2918335915067389\n",
      "  (0, 1401)\t0.2626832171423389\n",
      "  (0, 2482)\t0.26752361109476797\n",
      "  (0, 6381)\t0.2701917502132373\n",
      "  (0, 4652)\t0.3454453072521403\n",
      "  (0, 3764)\t0.15705625796538664\n"
     ]
    }
   ],
   "source": [
    "from sklearn.feature_extraction.text import TfidfVectorizer\n",
    "vectorizer = TfidfVectorizer()\n",
    "msg_vect = vectorizer.fit_transform(x_copy)\n",
    "print(\" after vectorizer\")\n",
    "print(msg_vect[0])"
   ]
  },
  {
   "cell_type": "code",
   "execution_count": 11,
   "id": "08b590af",
   "metadata": {},
   "outputs": [],
   "source": [
    "from sklearn.model_selection import train_test_split\n",
    "X_train, X_test, y_train, y_test = train_test_split(msg_vect, y, test_size=0.3, random_state=20)\n"
   ]
  },
  {
   "cell_type": "code",
   "execution_count": 12,
   "id": "26954b93",
   "metadata": {
    "scrolled": true
   },
   "outputs": [
    {
     "name": "stdout",
     "output_type": "stream",
     "text": [
      "x_train   (0, 8938)\t0.38390752553068686\n",
      "  (0, 4051)\t0.38390752553068686\n",
      "  (0, 3122)\t0.2672880653818529\n",
      "  (0, 3624)\t0.29420398711192614\n",
      "  (0, 8827)\t0.284983697343027\n",
      "  (0, 5560)\t0.31455334019386855\n",
      "  (0, 4632)\t0.3609090451930311\n",
      "  (0, 3901)\t0.25635010015080717\n",
      "  (0, 2622)\t0.19713700659748826\n",
      "  (0, 5531)\t0.23839040775858125\n",
      "  (0, 7996)\t0.27460502097424444\n",
      "  (1, 321)\t0.26494347155899756\n",
      "  (1, 764)\t0.26494347155899756\n",
      "  (1, 8802)\t0.26494347155899756\n",
      "  (1, 618)\t0.26494347155899756\n",
      "  (1, 879)\t0.26494347155899756\n",
      "  (1, 5039)\t0.26494347155899756\n",
      "  (1, 2175)\t0.26494347155899756\n",
      "  (1, 2248)\t0.252917181834926\n",
      "  (1, 5048)\t0.2277859206047139\n",
      "  (1, 4868)\t0.21437982488795423\n",
      "  (1, 6734)\t0.2238253154062689\n",
      "  (1, 1752)\t0.17921365788176138\n",
      "  (1, 6358)\t0.18179445708751832\n",
      "  (1, 2104)\t0.16830676440049086\n",
      "  :\t:\n",
      "  (3, 1239)\t0.29774380259876354\n",
      "  (3, 2335)\t0.29774380259876354\n",
      "  (3, 1745)\t0.29774380259876354\n",
      "  (3, 4101)\t0.29774380259876354\n",
      "  (3, 1093)\t0.29774380259876354\n",
      "  (3, 3691)\t0.29774380259876354\n",
      "  (3, 1109)\t0.29774380259876354\n",
      "  (3, 6317)\t0.29774380259876354\n",
      "  (3, 5801)\t0.29774380259876354\n",
      "  (3, 7389)\t0.29774380259876354\n",
      "  (3, 5721)\t0.15759095200649678\n",
      "  (4, 7513)\t0.37151929453625093\n",
      "  (4, 8969)\t0.3250040686091703\n",
      "  (4, 3927)\t0.3348512381693752\n",
      "  (4, 1232)\t0.3801657825764546\n",
      "  (4, 5584)\t0.23444518615401874\n",
      "  (4, 1440)\t0.25111001547713807\n",
      "  (4, 2622)\t0.20765548934311098\n",
      "  (4, 3797)\t0.20048783251673113\n",
      "  (4, 4180)\t0.236693208268837\n",
      "  (4, 5092)\t0.2132100875944981\n",
      "  (4, 5438)\t0.2530199804497502\n",
      "  (4, 1142)\t0.2436215611241617\n",
      "  (4, 5946)\t0.19081533861200642\n",
      "  (4, 3764)\t0.192598420321421\n",
      "y_train 2905    0\n",
      "4569    1\n",
      "1365    1\n",
      "2235    0\n",
      "567     0\n",
      "Name: y, dtype: int32\n"
     ]
    }
   ],
   "source": [
    "print(\"x_train\", X_train[:5])\n",
    "print(\"y_train\" ,y_train[:5])"
   ]
  },
  {
   "cell_type": "code",
   "execution_count": 13,
   "id": "fdc9cc83",
   "metadata": {
    "scrolled": true
   },
   "outputs": [
    {
     "data": {
      "text/plain": [
       "array([0, 0, 0, 0, 0, 0, 0, 0, 0, 1])"
      ]
     },
     "execution_count": 13,
     "metadata": {},
     "output_type": "execute_result"
    }
   ],
   "source": [
    "from sklearn.linear_model import LogisticRegression\n",
    "logistic = LogisticRegression(solver='liblinear', penalty='l1')\n",
    "logistic.fit(X_train, y_train)\n",
    "log_pred = logistic.predict(X_test)\n",
    "log_pred[:10]"
   ]
  },
  {
   "cell_type": "code",
   "execution_count": 14,
   "id": "67640891",
   "metadata": {},
   "outputs": [
    {
     "data": {
      "text/plain": [
       "0.9383971291866029"
      ]
     },
     "execution_count": 14,
     "metadata": {},
     "output_type": "execute_result"
    }
   ],
   "source": [
    "from sklearn.metrics import accuracy_score,confusion_matrix,precision_score\n",
    "acc1=accuracy_score(y_test,log_pred)\n",
    "acc1"
   ]
  },
  {
   "cell_type": "code",
   "execution_count": 15,
   "id": "ae151ae2",
   "metadata": {},
   "outputs": [],
   "source": [
    "\n",
    "def stemmer (text):\n",
    "    text = text.split()\n",
    "    words = \" \"\n",
    "    for i in text:\n",
    "        stemmer = SnowballStemmer(\"english\")\n",
    "        words += (stemmer.stem(i))+\" \"\n",
    "    return words"
   ]
  },
  {
   "cell_type": "code",
   "execution_count": 16,
   "id": "2501b4c9",
   "metadata": {},
   "outputs": [],
   "source": [
    "x_copy = x_copy.apply(stemmer)\n",
    "vectorizer = TfidfVectorizer()\n",
    "x_vect = vectorizer.fit_transform(x_copy)\n"
   ]
  },
  {
   "cell_type": "code",
   "execution_count": 17,
   "id": "f460f526",
   "metadata": {},
   "outputs": [
    {
     "data": {
      "text/plain": [
       "array([0, 0, 0, 0, 0, 0, 0, 0, 0, 0])"
      ]
     },
     "execution_count": 17,
     "metadata": {},
     "output_type": "execute_result"
    }
   ],
   "source": [
    "X_train, X_test, y_train, y_test = train_test_split(x_vect,y, test_size=0.3, random_state=20)\n",
    "log2 = LogisticRegression()\n",
    "log2.fit(X_train, y_train)\n",
    "log2_pred = log2.predict(X_test)\n",
    "log2_pred[:10]"
   ]
  },
  {
   "cell_type": "code",
   "execution_count": 18,
   "id": "6359e199",
   "metadata": {},
   "outputs": [
    {
     "data": {
      "text/plain": [
       "0.94377990430622"
      ]
     },
     "execution_count": 18,
     "metadata": {},
     "output_type": "execute_result"
    }
   ],
   "source": [
    "acc2=accuracy_score(y_test,log2_pred)\n",
    "acc2\n"
   ]
  },
  {
   "cell_type": "code",
   "execution_count": 19,
   "id": "19861d69",
   "metadata": {},
   "outputs": [
    {
     "name": "stdout",
     "output_type": "stream",
     "text": [
      "Accuracy 1: 0.9665071770334929\n"
     ]
    }
   ],
   "source": [
    "from sklearn.ensemble import RandomForestClassifier\n",
    "rfc = RandomForestClassifier()\n",
    "rfc.fit(X_train, y_train)\n",
    "rfc_pred = rfc.predict(X_test)\n",
    "rfc_acc=accuracy_score(y_test,rfc_pred)\n",
    "print(\"Accuracy 1:\", rfc_acc)"
   ]
  },
  {
   "cell_type": "code",
   "execution_count": 20,
   "id": "a54abf35",
   "metadata": {},
   "outputs": [
    {
     "name": "stdout",
     "output_type": "stream",
     "text": [
      "0.9665071770334929\n",
      "[[1436    3]\n",
      " [  53  180]]\n",
      "0.9836065573770492\n"
     ]
    }
   ],
   "source": [
    "from sklearn.metrics import accuracy_score,confusion_matrix,precision_score\n",
    "\n",
    "print(accuracy_score(y_test,rfc_pred))\n",
    "print(confusion_matrix(y_test,rfc_pred))\n",
    "print(precision_score(y_test,rfc_pred))"
   ]
  },
  {
   "cell_type": "code",
   "execution_count": null,
   "id": "04766f27",
   "metadata": {},
   "outputs": [],
   "source": []
  },
  {
   "cell_type": "code",
   "execution_count": 21,
   "id": "c30bd688",
   "metadata": {},
   "outputs": [],
   "source": [
    "# inp=[\"Please call our customer service representative on 0800 169 6031 between 10am-9pm as you have WON a guaranteed å£1000 cash or å£5000 prize\"]\n",
    "def is_spam(inp):\n",
    "    print(inp)\n",
    "    inp=pd.Series(inp)\n",
    "    print(\"series\",inp)\n",
    "    inp =inp.apply(stemmer)\n",
    "    print(\"stemmer\",inp)\n",
    "    inp_prep=inp.apply(text_preprocess)\n",
    "    print(\"prepppp\",inp_prep)\n",
    "\n",
    "    inp_test=vectorizer.transform(inp_prep)\n",
    "    print(\"inp_test\",inp_test)\n",
    "    inp_pred=mnb.predict(inp_test)\n",
    "    print(\"op\",inp_pred)\n",
    "\n",
    "    if inp_pred==1:\n",
    "        print(\"spam\")\n",
    "        return True\n",
    "    else:\n",
    "        print(\"Not Spam\")\n",
    "\n",
    "        return False\n",
    "\n",
    "\n",
    "# model.predict(vectorizer.transform(inp)[0])\n",
    "\n"
   ]
  },
  {
   "cell_type": "code",
   "execution_count": 22,
   "id": "f22c54ab",
   "metadata": {},
   "outputs": [],
   "source": [
    "X_train, X_test, y_train, y_test = train_test_split(x_vect, y, test_size=0.3, random_state=20)\n"
   ]
  },
  {
   "cell_type": "code",
   "execution_count": 23,
   "id": "cbee1e96",
   "metadata": {},
   "outputs": [],
   "source": [
    "from sklearn.linear_model import LogisticRegression\n",
    "from sklearn.svm import SVC\n",
    "from sklearn.naive_bayes import MultinomialNB\n",
    "from sklearn.tree import DecisionTreeClassifier\n",
    "from sklearn.neighbors import KNeighborsClassifier\n",
    "from sklearn.ensemble import RandomForestClassifier\n",
    "from sklearn.ensemble import AdaBoostClassifier\n",
    "from sklearn.ensemble import BaggingClassifier\n",
    "from sklearn.ensemble import ExtraTreesClassifier\n",
    "from sklearn.ensemble import GradientBoostingClassifier\n",
    "from xgboost import XGBClassifier\n",
    "\n",
    "\n",
    "svc = SVC(kernel='sigmoid', gamma=1.0)\n",
    "knc = KNeighborsClassifier()\n",
    "mnb = MultinomialNB()\n",
    "dtc = DecisionTreeClassifier(max_depth=5)\n",
    "lrc = LogisticRegression(solver='liblinear', penalty='l1')\n",
    "rfc = RandomForestClassifier(n_estimators=50, random_state=2)\n",
    "abc = AdaBoostClassifier(n_estimators=50, random_state=2)\n",
    "bc = BaggingClassifier(n_estimators=50, random_state=2)\n",
    "etc = ExtraTreesClassifier(n_estimators=50, random_state=2)\n",
    "gbdt = GradientBoostingClassifier(n_estimators=50,random_state=2)\n",
    "xgb = XGBClassifier(n_estimators=50,random_state=2)\n",
    "\n",
    "\n",
    "clfs = {\n",
    "    'SVC' : svc,\n",
    "    'KN' : knc, \n",
    "    'NB': mnb, \n",
    "    'DT': dtc, \n",
    "    'LR': lrc, \n",
    "    'RF': rfc, \n",
    "    'AdaBoost': abc, \n",
    "    'BgC': bc, \n",
    "    'ETC': etc,\n",
    "    'GBDT':gbdt,\n",
    "    'xgb':xgb\n",
    "}"
   ]
  },
  {
   "cell_type": "code",
   "execution_count": 24,
   "id": "36f4cb50",
   "metadata": {},
   "outputs": [],
   "source": [
    "def train_classifier(clf,X_train,y_train,X_test,y_test):\n",
    "    clf.fit(X_train,y_train)\n",
    "    y_pred = clf.predict(X_test)\n",
    "    accuracy = accuracy_score(y_test,y_pred)\n",
    "    precision = precision_score(y_test,y_pred)\n",
    "\n",
    "    return accuracy,precision"
   ]
  },
  {
   "cell_type": "code",
   "execution_count": 25,
   "id": "433c70ec",
   "metadata": {},
   "outputs": [
    {
     "name": "stdout",
     "output_type": "stream",
     "text": [
      "For  SVC\n",
      "Accuracy -  0.9736842105263158\n",
      "Precision -  0.9796954314720813\n",
      "For  KN\n",
      "Accuracy -  0.8917464114832536\n",
      "Precision -  1.0\n",
      "For  NB\n",
      "Accuracy -  0.9551435406698564\n",
      "Precision -  1.0\n",
      "For  DT\n",
      "Accuracy -  0.9336124401913876\n",
      "Precision -  0.8588235294117647\n",
      "For  LR\n",
      "Accuracy -  0.9461722488038278\n",
      "Precision -  0.9132947976878613\n",
      "For  RF\n",
      "Accuracy -  0.9659090909090909\n",
      "Precision -  0.9731182795698925\n",
      "For  AdaBoost\n",
      "Accuracy -  0.9611244019138756\n",
      "Precision -  0.92\n",
      "For  BgC\n",
      "Accuracy -  0.9605263157894737\n",
      "Precision -  0.8883720930232558\n",
      "For  ETC\n",
      "Accuracy -  0.9712918660287081\n",
      "Precision -  0.9946524064171123\n",
      "For  GBDT\n",
      "Accuracy -  0.9473684210526315\n",
      "Precision -  0.9142857142857143\n",
      "For  xgb\n",
      "Accuracy -  0.9671052631578947\n",
      "Precision -  0.9278846153846154\n"
     ]
    }
   ],
   "source": [
    "from sklearn.metrics import accuracy_score,confusion_matrix,precision_score\n",
    "\n",
    "accuracy_scores = []\n",
    "precision_scores = []\n",
    "\n",
    "for name,clf in clfs.items():\n",
    "    \n",
    "    current_accuracy,current_precision = train_classifier(clf, X_train,y_train,X_test,y_test)\n",
    "    \n",
    "    print(\"For \",name)\n",
    "    print(\"Accuracy - \",current_accuracy)\n",
    "    print(\"Precision - \",current_precision)\n",
    "    \n",
    "    accuracy_scores.append(current_accuracy)\n",
    "    precision_scores.append(current_precision)"
   ]
  },
  {
   "cell_type": "code",
   "execution_count": 26,
   "id": "2fa6e0b0",
   "metadata": {},
   "outputs": [
    {
     "data": {
      "text/html": [
       "<div>\n",
       "<style scoped>\n",
       "    .dataframe tbody tr th:only-of-type {\n",
       "        vertical-align: middle;\n",
       "    }\n",
       "\n",
       "    .dataframe tbody tr th {\n",
       "        vertical-align: top;\n",
       "    }\n",
       "\n",
       "    .dataframe thead th {\n",
       "        text-align: right;\n",
       "    }\n",
       "</style>\n",
       "<table border=\"1\" class=\"dataframe\">\n",
       "  <thead>\n",
       "    <tr style=\"text-align: right;\">\n",
       "      <th></th>\n",
       "      <th>Algorithm</th>\n",
       "      <th>Accuracy</th>\n",
       "      <th>Precision</th>\n",
       "    </tr>\n",
       "  </thead>\n",
       "  <tbody>\n",
       "    <tr>\n",
       "      <th>0</th>\n",
       "      <td>SVC</td>\n",
       "      <td>0.973684</td>\n",
       "      <td>0.979695</td>\n",
       "    </tr>\n",
       "    <tr>\n",
       "      <th>8</th>\n",
       "      <td>ETC</td>\n",
       "      <td>0.971292</td>\n",
       "      <td>0.994652</td>\n",
       "    </tr>\n",
       "    <tr>\n",
       "      <th>10</th>\n",
       "      <td>xgb</td>\n",
       "      <td>0.967105</td>\n",
       "      <td>0.927885</td>\n",
       "    </tr>\n",
       "    <tr>\n",
       "      <th>5</th>\n",
       "      <td>RF</td>\n",
       "      <td>0.965909</td>\n",
       "      <td>0.973118</td>\n",
       "    </tr>\n",
       "    <tr>\n",
       "      <th>6</th>\n",
       "      <td>AdaBoost</td>\n",
       "      <td>0.961124</td>\n",
       "      <td>0.920000</td>\n",
       "    </tr>\n",
       "    <tr>\n",
       "      <th>7</th>\n",
       "      <td>BgC</td>\n",
       "      <td>0.960526</td>\n",
       "      <td>0.888372</td>\n",
       "    </tr>\n",
       "    <tr>\n",
       "      <th>2</th>\n",
       "      <td>NB</td>\n",
       "      <td>0.955144</td>\n",
       "      <td>1.000000</td>\n",
       "    </tr>\n",
       "    <tr>\n",
       "      <th>9</th>\n",
       "      <td>GBDT</td>\n",
       "      <td>0.947368</td>\n",
       "      <td>0.914286</td>\n",
       "    </tr>\n",
       "    <tr>\n",
       "      <th>4</th>\n",
       "      <td>LR</td>\n",
       "      <td>0.946172</td>\n",
       "      <td>0.913295</td>\n",
       "    </tr>\n",
       "    <tr>\n",
       "      <th>3</th>\n",
       "      <td>DT</td>\n",
       "      <td>0.933612</td>\n",
       "      <td>0.858824</td>\n",
       "    </tr>\n",
       "    <tr>\n",
       "      <th>1</th>\n",
       "      <td>KN</td>\n",
       "      <td>0.891746</td>\n",
       "      <td>1.000000</td>\n",
       "    </tr>\n",
       "  </tbody>\n",
       "</table>\n",
       "</div>"
      ],
      "text/plain": [
       "   Algorithm  Accuracy  Precision\n",
       "0        SVC  0.973684   0.979695\n",
       "8        ETC  0.971292   0.994652\n",
       "10       xgb  0.967105   0.927885\n",
       "5         RF  0.965909   0.973118\n",
       "6   AdaBoost  0.961124   0.920000\n",
       "7        BgC  0.960526   0.888372\n",
       "2         NB  0.955144   1.000000\n",
       "9       GBDT  0.947368   0.914286\n",
       "4         LR  0.946172   0.913295\n",
       "3         DT  0.933612   0.858824\n",
       "1         KN  0.891746   1.000000"
      ]
     },
     "execution_count": 26,
     "metadata": {},
     "output_type": "execute_result"
    }
   ],
   "source": [
    "performance_df = pd.DataFrame({'Algorithm':clfs.keys(),'Accuracy':accuracy_scores,'Precision':precision_scores}).sort_values('Accuracy',ascending=False)\n",
    "performance_df"
   ]
  },
  {
   "cell_type": "code",
   "execution_count": 29,
   "id": "16a40310",
   "metadata": {},
   "outputs": [
    {
     "data": {
      "text/html": [
       "<div>\n",
       "<style scoped>\n",
       "    .dataframe tbody tr th:only-of-type {\n",
       "        vertical-align: middle;\n",
       "    }\n",
       "\n",
       "    .dataframe tbody tr th {\n",
       "        vertical-align: top;\n",
       "    }\n",
       "\n",
       "    .dataframe thead th {\n",
       "        text-align: right;\n",
       "    }\n",
       "</style>\n",
       "<table border=\"1\" class=\"dataframe\">\n",
       "  <thead>\n",
       "    <tr style=\"text-align: right;\">\n",
       "      <th></th>\n",
       "      <th>Algorithm</th>\n",
       "      <th>variable</th>\n",
       "      <th>value</th>\n",
       "    </tr>\n",
       "  </thead>\n",
       "  <tbody>\n",
       "    <tr>\n",
       "      <th>0</th>\n",
       "      <td>SVC</td>\n",
       "      <td>Accuracy</td>\n",
       "      <td>0.973684</td>\n",
       "    </tr>\n",
       "    <tr>\n",
       "      <th>1</th>\n",
       "      <td>ETC</td>\n",
       "      <td>Accuracy</td>\n",
       "      <td>0.971292</td>\n",
       "    </tr>\n",
       "    <tr>\n",
       "      <th>2</th>\n",
       "      <td>xgb</td>\n",
       "      <td>Accuracy</td>\n",
       "      <td>0.967105</td>\n",
       "    </tr>\n",
       "    <tr>\n",
       "      <th>3</th>\n",
       "      <td>RF</td>\n",
       "      <td>Accuracy</td>\n",
       "      <td>0.965909</td>\n",
       "    </tr>\n",
       "    <tr>\n",
       "      <th>4</th>\n",
       "      <td>AdaBoost</td>\n",
       "      <td>Accuracy</td>\n",
       "      <td>0.961124</td>\n",
       "    </tr>\n",
       "    <tr>\n",
       "      <th>5</th>\n",
       "      <td>BgC</td>\n",
       "      <td>Accuracy</td>\n",
       "      <td>0.960526</td>\n",
       "    </tr>\n",
       "    <tr>\n",
       "      <th>6</th>\n",
       "      <td>NB</td>\n",
       "      <td>Accuracy</td>\n",
       "      <td>0.955144</td>\n",
       "    </tr>\n",
       "    <tr>\n",
       "      <th>7</th>\n",
       "      <td>GBDT</td>\n",
       "      <td>Accuracy</td>\n",
       "      <td>0.947368</td>\n",
       "    </tr>\n",
       "    <tr>\n",
       "      <th>8</th>\n",
       "      <td>LR</td>\n",
       "      <td>Accuracy</td>\n",
       "      <td>0.946172</td>\n",
       "    </tr>\n",
       "    <tr>\n",
       "      <th>9</th>\n",
       "      <td>DT</td>\n",
       "      <td>Accuracy</td>\n",
       "      <td>0.933612</td>\n",
       "    </tr>\n",
       "    <tr>\n",
       "      <th>10</th>\n",
       "      <td>KN</td>\n",
       "      <td>Accuracy</td>\n",
       "      <td>0.891746</td>\n",
       "    </tr>\n",
       "    <tr>\n",
       "      <th>11</th>\n",
       "      <td>SVC</td>\n",
       "      <td>Precision</td>\n",
       "      <td>0.979695</td>\n",
       "    </tr>\n",
       "    <tr>\n",
       "      <th>12</th>\n",
       "      <td>ETC</td>\n",
       "      <td>Precision</td>\n",
       "      <td>0.994652</td>\n",
       "    </tr>\n",
       "    <tr>\n",
       "      <th>13</th>\n",
       "      <td>xgb</td>\n",
       "      <td>Precision</td>\n",
       "      <td>0.927885</td>\n",
       "    </tr>\n",
       "    <tr>\n",
       "      <th>14</th>\n",
       "      <td>RF</td>\n",
       "      <td>Precision</td>\n",
       "      <td>0.973118</td>\n",
       "    </tr>\n",
       "    <tr>\n",
       "      <th>15</th>\n",
       "      <td>AdaBoost</td>\n",
       "      <td>Precision</td>\n",
       "      <td>0.920000</td>\n",
       "    </tr>\n",
       "    <tr>\n",
       "      <th>16</th>\n",
       "      <td>BgC</td>\n",
       "      <td>Precision</td>\n",
       "      <td>0.888372</td>\n",
       "    </tr>\n",
       "    <tr>\n",
       "      <th>17</th>\n",
       "      <td>NB</td>\n",
       "      <td>Precision</td>\n",
       "      <td>1.000000</td>\n",
       "    </tr>\n",
       "    <tr>\n",
       "      <th>18</th>\n",
       "      <td>GBDT</td>\n",
       "      <td>Precision</td>\n",
       "      <td>0.914286</td>\n",
       "    </tr>\n",
       "    <tr>\n",
       "      <th>19</th>\n",
       "      <td>LR</td>\n",
       "      <td>Precision</td>\n",
       "      <td>0.913295</td>\n",
       "    </tr>\n",
       "    <tr>\n",
       "      <th>20</th>\n",
       "      <td>DT</td>\n",
       "      <td>Precision</td>\n",
       "      <td>0.858824</td>\n",
       "    </tr>\n",
       "    <tr>\n",
       "      <th>21</th>\n",
       "      <td>KN</td>\n",
       "      <td>Precision</td>\n",
       "      <td>1.000000</td>\n",
       "    </tr>\n",
       "  </tbody>\n",
       "</table>\n",
       "</div>"
      ],
      "text/plain": [
       "   Algorithm   variable     value\n",
       "0        SVC   Accuracy  0.973684\n",
       "1        ETC   Accuracy  0.971292\n",
       "2        xgb   Accuracy  0.967105\n",
       "3         RF   Accuracy  0.965909\n",
       "4   AdaBoost   Accuracy  0.961124\n",
       "5        BgC   Accuracy  0.960526\n",
       "6         NB   Accuracy  0.955144\n",
       "7       GBDT   Accuracy  0.947368\n",
       "8         LR   Accuracy  0.946172\n",
       "9         DT   Accuracy  0.933612\n",
       "10        KN   Accuracy  0.891746\n",
       "11       SVC  Precision  0.979695\n",
       "12       ETC  Precision  0.994652\n",
       "13       xgb  Precision  0.927885\n",
       "14        RF  Precision  0.973118\n",
       "15  AdaBoost  Precision  0.920000\n",
       "16       BgC  Precision  0.888372\n",
       "17        NB  Precision  1.000000\n",
       "18      GBDT  Precision  0.914286\n",
       "19        LR  Precision  0.913295\n",
       "20        DT  Precision  0.858824\n",
       "21        KN  Precision  1.000000"
      ]
     },
     "execution_count": 29,
     "metadata": {},
     "output_type": "execute_result"
    }
   ],
   "source": [
    "performance_df1 = pd.melt(performance_df, id_vars = \"Algorithm\")\n",
    "performance_df1"
   ]
  },
  {
   "cell_type": "code",
   "execution_count": 30,
   "id": "fbba204a",
   "metadata": {},
   "outputs": [
    {
     "data": {
      "image/png": "[encoded data removed]",
      "text/plain": [
       "<Figure size 613.5x500 with 1 Axes>"
      ]
     },
     "metadata": {},
     "output_type": "display_data"
    }
   ],
   "source": [
    "sns.catplot(x = 'Algorithm', y='value', hue = 'variable',data=performance_df1, kind='bar',height=5)\n",
    "plt.xticks(rotation='vertical')\n",
    "plt.show()"
   ]
  },
  {
   "cell_type": "code",
   "execution_count": 31,
   "id": "5c0bba0b",
   "metadata": {},
   "outputs": [],
   "source": [
    "import pickle\n",
    "pickle.dump(svc,open('svc.pkl','wb'))\n",
    "pickle.dump(vectorizer,open('vector1.pkl','wb'))\n",
    "\n",
    "\n"
   ]
  },
  {
   "cell_type": "code",
   "execution_count": 32,
   "id": "e97da380",
   "metadata": {},
   "outputs": [
    {
     "data": {
      "text/plain": [
       "<5572x8037 sparse matrix of type '<class 'numpy.float64'>'\n",
       "\twith 46982 stored elements in Compressed Sparse Row format>"
      ]
     },
     "execution_count": 32,
     "metadata": {},
     "output_type": "execute_result"
    }
   ],
   "source": [
    "modelv = pickle.load(open('vector1.pkl','rb'))\n",
    "modelv.transform(x_copy)"
   ]
  },
  {
   "cell_type": "code",
   "execution_count": 33,
   "id": "3ef4bd1a",
   "metadata": {},
   "outputs": [],
   "source": [
    "# inp=[\"Please call our customer service representative on 0800 169 6031 between 10am-9pm as you have WON a guaranteed å£1000 cash or å£5000 prize\"]\n",
    "def is_spam(inp):\n",
    "    print(inp)\n",
    "    inp=pd.Series(inp)\n",
    "    print(\"series\",inp)\n",
    "    inp =inp.apply(stemmer)\n",
    "    print(\"stemmer\",inp)\n",
    "    inp_prep=inp.apply(text_preprocess)\n",
    "    print(\"prepppp\",inp_prep)\n",
    "\n",
    "    inp_test=modelv.transform(inp_prep)\n",
    "    print(\"inp_test\",inp_test)\n",
    "    inp_pred=svc.predict(inp_test)\n",
    "    print(\"op\",inp_pred)\n",
    "\n",
    "    if inp_pred==1:\n",
    "        print(\"spam\")\n",
    "        return True\n",
    "    else:\n",
    "        print(\"Not Spam\")\n",
    "\n",
    "        return False\n",
    "\n",
    "\n",
    "# model.predict(vectorizer.transform(inp)[0])\n",
    "\n"
   ]
  },
  {
   "cell_type": "code",
   "execution_count": 34,
   "id": "070c3297",
   "metadata": {},
   "outputs": [
    {
     "name": "stdout",
     "output_type": "stream",
     "text": [
      "Please call our customer service representative on 0800 169 6031 between 10am-9pm as you have prize!\n",
      "series 0    Please call our customer service representativ...\n",
      "dtype: object\n",
      "stemmer 0     pleas call our custom servic repres on 0800 1...\n",
      "dtype: object\n",
      "prepppp 0    pleas call custom servic repres 0800 169 6031 ...\n",
      "dtype: object\n",
      "inp_test   (0, 6213)\t0.252732145241991\n",
      "  (0, 5930)\t0.34584174505085746\n",
      "  (0, 5668)\t0.24688966929815848\n",
      "  (0, 5498)\t0.22694177228671156\n",
      "  (0, 2280)\t0.26233401106139614\n",
      "  (0, 1781)\t0.15513474909956798\n",
      "  (0, 718)\t0.40801096635306855\n",
      "  (0, 392)\t0.40801096635306855\n",
      "  (0, 307)\t0.40801096635306855\n",
      "  (0, 48)\t0.3343024133863381\n",
      "op [1]\n",
      "spam\n"
     ]
    },
    {
     "data": {
      "text/plain": [
       "True"
      ]
     },
     "execution_count": 34,
     "metadata": {},
     "output_type": "execute_result"
    }
   ],
   "source": [
    "inp1 = \"Please call our customer service representative on 0800 169 6031 between 10am-9pm as you have prize!\"  \n",
    "is_spam(inp1)"
   ]
  },
  {
   "cell_type": "code",
   "execution_count": null,
   "id": "4d18daef",
   "metadata": {},
   "outputs": [],
   "source": []
  }
 ],
 "metadata": {
  "kernelspec": {
   "display_name": "Python 3 (ipykernel)",
   "language": "python",
   "name": "python3"
  },
  "language_info": {
   "codemirror_mode": {
    "name": "ipython",
    "version": 3
   },
   "file_extension": ".py",
   "mimetype": "text/x-python",
   "name": "python",
   "nbconvert_exporter": "python",
   "pygments_lexer": "ipython3",
   "version": "3.11.2"
  }
 },
 "nbformat": 4,
 "nbformat_minor": 5
}
